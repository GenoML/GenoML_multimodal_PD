{
 "cells": [
  {
   "cell_type": "code",
   "execution_count": null,
   "metadata": {},
   "outputs": [],
   "source": [
    "import os\n",
    "import sys\n",
    "import argparse \n",
    "import math\n",
    "import time\n",
    "# ! pip install h5py\n",
    "# import h5py\n",
    "import joblib\n",
    "import subprocess\n",
    "import numpy as np\n",
    "import pandas as pd\n",
    "import tables\n",
    "import statsmodels.api as sm\n",
    "from scipy import stats\n",
    "# ! pip install --upgrade tables"
   ]
  },
  {
   "cell_type": "markdown",
   "metadata": {},
   "source": [
    "# 0. Getting PRS and Generating --addit file "
   ]
  },
  {
   "cell_type": "code",
   "execution_count": null,
   "metadata": {},
   "outputs": [],
   "source": [
    "# Merge PRS with transcriptomics.\n",
    "PRS_df = pd.read_csv(\"output_prs_prs.csv\")\n",
    "PRS_df.rename(columns={\"IID\":\"ID\"}, inplace=True)\n",
    "old_addit_df = pd.read_csv(\"OG_PPMI_Only_Combined_Clinical_Omics.csv\")\n",
    "PRS_with_addits_df = PRS_df.merge(old_addit_df, on=\"ID\", how='inner')\n",
    "PRS_df.to_csv(\"PRS.csv\", index=False)\n",
    "PRS_with_addits_df.to_csv(\"PRS_and_addits.csv\", index=False)"
   ]
  },
  {
   "cell_type": "markdown",
   "metadata": {},
   "source": [
    "# 1. Start the munging for different p-value thresholds plus PRS"
   ]
  },
  {
   "cell_type": "code",
   "execution_count": null,
   "metadata": {},
   "outputs": [],
   "source": [
    "%%bash\n",
    "genoml discrete supervised munge --p 0.01 --prefix PPMI_Only_genetics_p1E2_with_PRS --geno AMP_Euro_sampleQC_variantQC_FINAL_OG_PPMI_Only --pheno OG_PPMI_Only_PHENO.csv --gwas GenoML_mod_META5_p005_maf001_90hits_Nov17.csv --addit PRS.csv --impute mean --skip_prune no --r2_cutoff 0.1 --feature_selection 500 --target_features SNPs_rsIDs_target_features.txt --confounders OG_PPMI_Only_WGS_PCs_Confounders.csv --adjust_data yes --adjust_normalize yes --umap_reduce no\n",
    "genoml discrete supervised munge --p 0.001 --prefix PPMI_Only_genetics_p1E3_with_PRS --geno AMP_Euro_sampleQC_variantQC_FINAL_OG_PPMI_Only --pheno OG_PPMI_Only_PHENO.csv --gwas GenoML_mod_META5_p005_maf001_90hits_Nov17.csv --addit PRS.csv --impute mean --skip_prune no --r2_cutoff 0.1 --feature_selection 500 --target_features SNPs_rsIDs_target_features.txt --confounders OG_PPMI_Only_WGS_PCs_Confounders.csv --adjust_data yes --adjust_normalize yes --umap_reduce no\n",
    "genoml discrete supervised munge --p 0.0001 --prefix PPMI_Only_genetics_p1E4_with_PRS --geno AMP_Euro_sampleQC_variantQC_FINAL_OG_PPMI_Only --pheno OG_PPMI_Only_PHENO.csv --gwas GenoML_mod_META5_p005_maf001_90hits_Nov17.csv --addit PRS.csv --impute mean --skip_prune no --r2_cutoff 0.1 --feature_selection 500 --target_features SNPs_rsIDs_target_features.txt --confounders OG_PPMI_Only_WGS_PCs_Confounders.csv --adjust_data yes --adjust_normalize yes --umap_reduce no\n",
    "genoml discrete supervised munge --p 0.00001 --prefix PPMI_Only_genetics_p1E5_with_PRS --geno AMP_Euro_sampleQC_variantQC_FINAL_OG_PPMI_Only --pheno OG_PPMI_Only_PHENO.csv --gwas GenoML_mod_META5_p005_maf001_90hits_Nov17.csv --addit PRS.csv --impute mean --skip_prune no --r2_cutoff 0.1 --feature_selection 500 --target_features SNPs_rsIDs_target_features.txt --confounders OG_PPMI_Only_WGS_PCs_Confounders.csv --adjust_data yes --adjust_normalize yes --umap_reduce no\n",
    "genoml discrete supervised munge --p 0.000001 --prefix PPMI_Only_genetics_p1E6_with_PRS --geno AMP_Euro_sampleQC_variantQC_FINAL_OG_PPMI_Only --pheno OG_PPMI_Only_PHENO.csv --gwas GenoML_mod_META5_p005_maf001_90hits_Nov17.csv --addit PRS.csv --impute mean --skip_prune no --r2_cutoff 0.1 --feature_selection 500 --target_features SNPs_rsIDs_target_features.txt --confounders OG_PPMI_Only_WGS_PCs_Confounders.csv --adjust_data yes --adjust_normalize yes --umap_reduce no\n",
    "genoml discrete supervised munge --p 0.0000001 --prefix PPMI_Only_genetics_p1E7_with_PRS --geno AMP_Euro_sampleQC_variantQC_FINAL_OG_PPMI_Only --pheno OG_PPMI_Only_PHENO.csv --gwas GenoML_mod_META5_p005_maf001_90hits_Nov17.csv --addit PRS.csv --impute mean --skip_prune no --r2_cutoff 0.1 --feature_selection 500 --target_features SNPs_rsIDs_target_features.txt --confounders OG_PPMI_Only_WGS_PCs_Confounders.csv --adjust_data yes --adjust_normalize yes --umap_reduce no\n",
    "genoml discrete supervised munge --p 0.00000001 --prefix PPMI_Only_genetics_p1E8_with_PRS --geno AMP_Euro_sampleQC_variantQC_FINAL_OG_PPMI_Only --pheno OG_PPMI_Only_PHENO.csv --gwas GenoML_mod_META5_p005_maf001_90hits_Nov17.csv --addit PRS.csv --impute mean --skip_prune no --r2_cutoff 0.1 --feature_selection 500 --target_features SNPs_rsIDs_target_features.txt --confounders OG_PPMI_Only_WGS_PCs_Confounders.csv --adjust_data yes --adjust_normalize yes --umap_reduce no"
   ]
  },
  {
   "cell_type": "markdown",
   "metadata": {},
   "source": [
    "# 2. Train it"
   ]
  },
  {
   "cell_type": "code",
   "execution_count": null,
   "metadata": {},
   "outputs": [],
   "source": [
    "genoml discrete supervised train --prefix PPMI_Only_genetics_p1E2_with_PRS\n",
    "genoml discrete supervised train --prefix PPMI_Only_genetics_p1E3_with_PRS\n",
    "genoml discrete supervised train --prefix PPMI_Only_genetics_p1E4_with_PRS\n",
    "genoml discrete supervised train --prefix PPMI_Only_genetics_p1E5_with_PRS\n",
    "genoml discrete supervised train --prefix PPMI_Only_genetics_p1E6_with_PRS\n",
    "genoml discrete supervised train --prefix PPMI_Only_genetics_p1E7_with_PRS\n",
    "genoml discrete supervised train --prefix PPMI_Only_genetics_p1E8_with_PRS"
   ]
  },
  {
   "cell_type": "markdown",
   "metadata": {},
   "source": [
    "# 3. Tune it"
   ]
  },
  {
   "cell_type": "code",
   "execution_count": null,
   "metadata": {},
   "outputs": [],
   "source": [
    "genoml discrete supervised tune --prefix PPMI_Only_genetics_p1E2_with_PRS\n",
    "genoml discrete supervised tune --prefix PPMI_Only_genetics_p1E3_with_PRS\n",
    "genoml discrete supervised tune --prefix PPMI_Only_genetics_p1E4_with_PRS\n",
    "genoml discrete supervised tune --prefix PPMI_Only_genetics_p1E5_with_PRS\n",
    "genoml discrete supervised tune --prefix PPMI_Only_genetics_p1E6_with_PRS\n",
    "genoml discrete supervised tune --prefix PPMI_Only_genetics_p1E7_with_PRS\n",
    "genoml discrete supervised tune --prefix PPMI_Only_genetics_p1E8_with_PRS"
   ]
  },
  {
   "cell_type": "markdown",
   "metadata": {},
   "source": [
    "# 4. Some weird MAF issues (lower in reference data than in AMP-PD, MAF < 0.01)\n",
    "Let's rerun this using the PRS and the SNPs filtered at MAF > 0.05"
   ]
  },
  {
   "cell_type": "code",
   "execution_count": null,
   "metadata": {},
   "outputs": [],
   "source": [
    "plink --bfile AMP_Euro_sampleQC_variantQC_FINAL_OG_PPMI_Only --maf 0.05 --make-bed --out AMP_Euro_sampleQC_variantQC_FINAL_OG_PPMI_Only-MAF05"
   ]
  },
  {
   "cell_type": "code",
   "execution_count": null,
   "metadata": {},
   "outputs": [],
   "source": [
    "# Genoml time again.\n",
    "%%bash\n",
    "## Now with a differnet MAF.\n",
    "# Munge it.\n",
    "# genoml discrete supervised munge --p 0.01 --prefix ./p1E2/PPMI_Only_genetics_p1E2_with_PRS-MAF05 --geno AMP_Euro_sampleQC_variantQC_FINAL_OG_PPMI_Only-MAF05 --pheno OG_PPMI_Only_PHENO.csv --gwas GenoML_mod_META5_p005_maf001_90hits_Nov17.csv --addit PRS.csv --impute mean --skip_prune no --r2_cutoff 0.1 --feature_selection 500 --target_features SNPs_rsIDs_target_features.txt --confounders OG_PPMI_Only_WGS_PCs_Confounders.csv --adjust_data yes --adjust_normalize yes --umap_reduce no\n",
    "# genoml discrete supervised munge --p 0.001 --prefix ./p1E3/PPMI_Only_genetics_p1E3_with_PRS-MAF05 --geno AMP_Euro_sampleQC_variantQC_FINAL_OG_PPMI_Only-MAF05 --pheno OG_PPMI_Only_PHENO.csv --gwas GenoML_mod_META5_p005_maf001_90hits_Nov17.csv --addit PRS.csv --impute mean --skip_prune no --r2_cutoff 0.1 --feature_selection 500 --target_features SNPs_rsIDs_target_features.txt --confounders OG_PPMI_Only_WGS_PCs_Confounders.csv --adjust_data yes --adjust_normalize yes --umap_reduce no\n",
    "# genoml discrete supervised munge --p 0.0001 --prefix ./p1E4/PPMI_Only_genetics_p1E4_with_PRS-MAF05 --geno AMP_Euro_sampleQC_variantQC_FINAL_OG_PPMI_Only-MAF05 --pheno OG_PPMI_Only_PHENO.csv --gwas GenoML_mod_META5_p005_maf001_90hits_Nov17.csv --addit PRS.csv --impute mean --skip_prune no --r2_cutoff 0.1 --feature_selection 500 --target_features SNPs_rsIDs_target_features.txt --confounders OG_PPMI_Only_WGS_PCs_Confounders.csv --adjust_data yes --adjust_normalize yes --umap_reduce no\n",
    "# genoml discrete supervised munge --p 0.00001 --prefix ./p1E5/PPMI_Only_genetics_p1E5_with_PRS-MAF05 --geno AMP_Euro_sampleQC_variantQC_FINAL_OG_PPMI_Only-MAF05 --pheno OG_PPMI_Only_PHENO.csv --gwas GenoML_mod_META5_p005_maf001_90hits_Nov17.csv --addit PRS.csv --impute mean --skip_prune no --r2_cutoff 0.1 --feature_selection 500 --target_features SNPs_rsIDs_target_features.txt --confounders OG_PPMI_Only_WGS_PCs_Confounders.csv --adjust_data yes --adjust_normalize yes --umap_reduce no\n",
    "# genoml discrete supervised munge --p 0.000001 --prefix ./p1E6/PPMI_Only_genetics_p1E6_with_PRS-MAF05 --geno AMP_Euro_sampleQC_variantQC_FINAL_OG_PPMI_Only-MAF05 --pheno OG_PPMI_Only_PHENO.csv --gwas GenoML_mod_META5_p005_maf001_90hits_Nov17.csv --addit PRS.csv --impute mean --skip_prune no --r2_cutoff 0.1 --feature_selection 500 --target_features SNPs_rsIDs_target_features.txt --confounders OG_PPMI_Only_WGS_PCs_Confounders.csv --adjust_data yes --adjust_normalize yes --umap_reduce no\n",
    "# genoml discrete supervised munge --p 0.0000001 --prefix ./p1E7/PPMI_Only_genetics_p1E7_with_PRS-MAF05 --geno AMP_Euro_sampleQC_variantQC_FINAL_OG_PPMI_Only-MAF05 --pheno OG_PPMI_Only_PHENO.csv --gwas GenoML_mod_META5_p005_maf001_90hits_Nov17.csv --addit PRS.csv --impute mean --skip_prune no --r2_cutoff 0.1 --feature_selection 500 --target_features SNPs_rsIDs_target_features.txt --confounders OG_PPMI_Only_WGS_PCs_Confounders.csv --adjust_data yes --adjust_normalize yes --umap_reduce no\n",
    "# genoml discrete supervised munge --p 0.00000001 --prefix ./p1E8/PPMI_Only_genetics_p1E8_with_PRS-MAF05 --geno AMP_Euro_sampleQC_variantQC_FINAL_OG_PPMI_Only-MAF05 --pheno OG_PPMI_Only_PHENO.csv --gwas GenoML_mod_META5_p005_maf001_90hits_Nov17.csv --addit PRS.csv --impute mean --skip_prune no --r2_cutoff 0.1 --feature_selection 500 --target_features SNPs_rsIDs_target_features.txt --confounders OG_PPMI_Only_WGS_PCs_Confounders.csv --adjust_data yes --adjust_normalize yes --umap_reduce no\n",
    "\n",
    "# Train it.\n",
    "# genoml discrete supervised train --prefix ./p1E2/PPMI_Only_genetics_p1E2_with_PRS-MAF05\n",
    "# genoml discrete supervised train --prefix ./p1E3/PPMI_Only_genetics_p1E3_with_PRS-MAF05\n",
    "# genoml discrete supervised train --prefix ./p1E4/PPMI_Only_genetics_p1E4_with_PRS-MAF05\n",
    "# genoml discrete supervised train --prefix ./p1E5/PPMI_Only_genetics_p1E5_with_PRS-MAF05\n",
    "# genoml discrete supervised train --prefix ./p1E6/PPMI_Only_genetics_p1E6_with_PRS-MAF05\n",
    "# genoml discrete supervised train --prefix ./p1E7/PPMI_Only_genetics_p1E7_with_PRS-MAF05\n",
    "# genoml discrete supervised train --prefix ./p1E8/PPMI_Only_genetics_p1E8_with_PRS-MAF05\n",
    "\n",
    "# Tune it.\n",
    "genoml discrete supervised tune --prefix ./p1E2/PPMI_Only_genetics_p1E2_with_PRS-MAF05\n",
    "genoml discrete supervised tune --prefix ./p1E3/PPMI_Only_genetics_p1E3_with_PRS-MAF05\n",
    "genoml discrete supervised tune --prefix ./p1E4/PPMI_Only_genetics_p1E4_with_PRS-MAF05\n",
    "genoml discrete supervised tune --prefix ./p1E5/PPMI_Only_genetics_p1E5_with_PRS-MAF05\n",
    "genoml discrete supervised tune --prefix ./p1E6/PPMI_Only_genetics_p1E6_with_PRS-MAF05\n",
    "genoml discrete supervised tune --prefix ./p1E7/PPMI_Only_genetics_p1E7_with_PRS-MAF05\n",
    "genoml discrete supervised tune --prefix ./p1E8/PPMI_Only_genetics_p1E8_with_PRS-MAF05"
   ]
  },
  {
   "cell_type": "markdown",
   "metadata": {},
   "source": [
    "# 5. Let's check thresholds on adjusted transcriptomic data\n",
    "After this we'll have thresholds in genomics and genetics (right now its looking like MAF > 0.05 & P <1E-6 for genetics + PRS)"
   ]
  },
  {
   "cell_type": "code",
   "execution_count": null,
   "metadata": {},
   "outputs": [],
   "source": [
    "diffexp_df = pd.read_csv(\"diff_exp_results_11022020.csv\")\n",
    "old_addit_df = pd.read_csv(\"PDBP_and_OG_PPMI_Transcriptomics_ALLTRANSCRIPTS_diffExp_ProteinCoding_ADJUSTED10PCs.csv\")\n",
    "\n",
    "p1E2_df = diffexp_df[diffexp_df['P_VAL'] <= 1E-2]\n",
    "p1E3_df = diffexp_df[diffexp_df['P_VAL'] <= 1E-3]\n",
    "p1E4_df = diffexp_df[diffexp_df['P_VAL'] <= 1E-4]\n",
    "p1E5_df = diffexp_df[diffexp_df['P_VAL'] <= 1E-5]\n",
    "p1E6_df = diffexp_df[diffexp_df['P_VAL'] <= 1E-6]\n",
    "p1E7_df = diffexp_df[diffexp_df['P_VAL'] <= 1E-7]\n",
    "p1E8_df = diffexp_df[diffexp_df['P_VAL'] <= 1E-8]\n",
    "\n",
    "p1E2_list = ['ID'] + p1E2_df['PREDICTOR'].unique().tolist()\n",
    "p1E3_list = ['ID'] + p1E3_df['PREDICTOR'].unique().tolist()\n",
    "p1E4_list = ['ID'] + p1E4_df['PREDICTOR'].unique().tolist()\n",
    "p1E5_list = ['ID'] + p1E5_df['PREDICTOR'].unique().tolist()\n",
    "p1E6_list = ['ID'] + p1E6_df['PREDICTOR'].unique().tolist()\n",
    "p1E7_list = ['ID'] + p1E7_df['PREDICTOR'].unique().tolist()\n",
    "p1E8_list = ['ID'] + p1E8_df['PREDICTOR'].unique().tolist()\n",
    "\n",
    "addit_p1E2_df = old_addit_df[old_addit_df.columns[old_addit_df.columns.isin(p1E2_list)]]\n",
    "addit_p1E3_df = old_addit_df[old_addit_df.columns[old_addit_df.columns.isin(p1E3_list)]]\n",
    "addit_p1E4_df = old_addit_df[old_addit_df.columns[old_addit_df.columns.isin(p1E4_list)]]\n",
    "addit_p1E5_df = old_addit_df[old_addit_df.columns[old_addit_df.columns.isin(p1E5_list)]]\n",
    "addit_p1E6_df = old_addit_df[old_addit_df.columns[old_addit_df.columns.isin(p1E6_list)]]\n",
    "addit_p1E7_df = old_addit_df[old_addit_df.columns[old_addit_df.columns.isin(p1E7_list)]]\n",
    "addit_p1E8_df = old_addit_df[old_addit_df.columns[old_addit_df.columns.isin(p1E8_list)]]\n",
    "\n",
    "addit_p1E2_df.to_csv(\"addit_p1E2.csv\", index=False)\n",
    "addit_p1E3_df.to_csv(\"addit_p1E3.csv\", index=False)\n",
    "addit_p1E4_df.to_csv(\"addit_p1E4.csv\", index=False)\n",
    "addit_p1E5_df.to_csv(\"addit_p1E5.csv\", index=False)\n",
    "addit_p1E6_df.to_csv(\"addit_p1E6.csv\", index=False)\n",
    "addit_p1E7_df.to_csv(\"addit_p1E7.csv\", index=False)\n",
    "addit_p1E8_df.to_csv(\"addit_p1E8.csv\", index=False)"
   ]
  },
  {
   "cell_type": "markdown",
   "metadata": {},
   "source": [
    "# 6. Now we head back to just running GenoML!\n",
    "Same directories different prefixes"
   ]
  },
  {
   "cell_type": "code",
   "execution_count": null,
   "metadata": {},
   "outputs": [],
   "source": [
    "%%bash\n",
    "\n",
    "for i in p1E7 p1E6 p1E5 p1E4 p1E3\n",
    "do\n",
    "    echo \"[UPDATE] MUNGING DATA AT P VAL LESS THAN --> \" ${i}\n",
    "    genoml discrete supervised munge --pheno OG_PPMI_Only_PHENO.csv --addit addit_${i}.csv --prefix ./${i}/PPMI_Only_transcriptomics_only-${i} --impute mean --feature_selection 500\n",
    "    echo \"[UPDATE] TRAINNING MODELS AND COMPETING ALGORITHMS AT P VAL LESS THAN --> \" ${i}\n",
    "    genoml discrete supervised train --prefix ./${i}/PPMI_Only_transcriptomics_only-${i}\n",
    "    echo \"[UPDATE] TUNING THE WINNING MODEL AND ALGORITHM AT P VAL LESS THAN --> \" ${i}\n",
    "    genoml discrete supervised tune --prefix ./${i}/PPMI_Only_transcriptomics_only-${i}\n",
    "done"
   ]
  },
  {
   "cell_type": "markdown",
   "metadata": {},
   "source": [
    "# 7. Combined model time\n",
    "It is possible to fit these to the equivalent PDBP dataset, harmonize and test. Best one will be the production model to share witht he community as it has the best chances of working well on other datasets"
   ]
  },
  {
   "cell_type": "code",
   "execution_count": null,
   "metadata": {},
   "outputs": [],
   "source": [
    "# Make some directories for new models. This is all possible combos of genetic (with PRS) and genomic data P thresholds + clinico demographics.\n",
    "%%bash\n",
    "for i in p1E2 p1E3 p1E4 p1E5 p1E6 p1E7 p1E8\n",
    "do\n",
    "    mkdir ./genetic_${i}_omic_p1E2/\n",
    "    mkdir ./genetic_${i}_omic_p1E3/\n",
    "    mkdir ./genetic_${i}_omic_p1E4/\n",
    "    mkdir ./genetic_${i}_omic_p1E5/\n",
    "    mkdir ./genetic_${i}_omic_p1E6/\n",
    "    mkdir ./genetic_${i}_omic_p1E7/\n",
    "    mkdir ./genetic_${i}_omic_p1E8/\n",
    "done"
   ]
  },
  {
   "cell_type": "code",
   "execution_count": null,
   "metadata": {},
   "outputs": [],
   "source": [
    "# Now place a custom built \"addit\" file in each directory. This includes the PRS plus the omics at the specified P threshold plus clinicodemographic data. Genetic data will be handled from the same file for all at munging.\n",
    "\n",
    "PRS_clinical_df = pd.read_csv(\"PRS_and_addits.csv\")\n",
    "PRS_clinical_reduced_df = PRS_clinical_df[['ID','PRS90','AGE','MALE','EDUCATION','FAMILY_HISTORY','UPSIT','InfAJ']]\n",
    "PRS_clinical_reduced_df.head()\n",
    "\n",
    "addit_df = pd.read_csv(\"addit_p1E8.csv\")\n",
    "merged_df = PRS_clinical_reduced_df.merge(addit_df, on='ID', how='inner')\n",
    "merged_df.to_csv(\"PRS_clinical_omics-p1E8.csv\", index=False)\n",
    "\n",
    "addit_df = pd.read_csv(\"addit_p1E7.csv\")\n",
    "merged_df = PRS_clinical_reduced_df.merge(addit_df, on='ID', how='inner')\n",
    "merged_df.to_csv(\"PRS_clinical_omics-p1E7.csv\", index=False)\n",
    "\n",
    "addit_df = pd.read_csv(\"addit_p1E6.csv\")\n",
    "merged_df = PRS_clinical_reduced_df.merge(addit_df, on='ID', how='inner')\n",
    "merged_df.to_csv(\"PRS_clinical_omics-p1E6.csv\", index=False)\n",
    "\n",
    "addit_df = pd.read_csv(\"addit_p1E5.csv\")\n",
    "merged_df = PRS_clinical_reduced_df.merge(addit_df, on='ID', how='inner')\n",
    "merged_df.to_csv(\"PRS_clinical_omics-p1E5.csv\", index=False)\n",
    "\n",
    "addit_df = pd.read_csv(\"addit_p1E4.csv\")\n",
    "merged_df = PRS_clinical_reduced_df.merge(addit_df, on='ID', how='inner')\n",
    "merged_df.to_csv(\"PRS_clinical_omics-p1E4.csv\", index=False)\n",
    "\n",
    "addit_df = pd.read_csv(\"addit_p1E3.csv\")\n",
    "merged_df = PRS_clinical_reduced_df.merge(addit_df, on='ID', how='inner')\n",
    "merged_df.to_csv(\"PRS_clinical_omics-p1E3.csv\", index=False)\n",
    "\n",
    "addit_df = pd.read_csv(\"addit_p1E2.csv\")\n",
    "merged_df = PRS_clinical_reduced_df.merge(addit_df, on='ID', how='inner')\n",
    "merged_df.to_csv(\"PRS_clinical_omics-p1E2.csv\", index=False)"
   ]
  },
  {
   "cell_type": "markdown",
   "metadata": {},
   "source": [
    "# 7. Big time GenoML runs\n",
    "We have 7 P thresholds for genetics and 7 for genomics. Thats a lot of modeling ... 49 to be exact.\n",
    "Let's make these combined models and get it going."
   ]
  },
  {
   "cell_type": "code",
   "execution_count": null,
   "metadata": {},
   "outputs": [],
   "source": [
    "# Munge data.\n",
    "%%bash\n",
    "\n",
    "for i in p1E8 p1E7 p1E6 p1E5 p1E4 p1E3 p1E2\n",
    "do\n",
    "    genoml discrete supervised munge --p 0.00000001 --prefix ./genetic_p1E8_omic_${i}/PPMI-genetic_p1E8_omic_${i} --addit PRS_clinical_omics-${i}.csv --geno AMP_Euro_sampleQC_variantQC_FINAL_OG_PPMI_Only-MAF05 --pheno OG_PPMI_Only_PHENO.csv --gwas GenoML_mod_META5_p005_maf001_90hits_Nov17.csv --impute mean --skip_prune no --r2_cutoff 0.1 --feature_selection 500 --target_features SNPs_rsIDs_target_features.txt --confounders OG_PPMI_Only_WGS_PCs_Confounders.csv --adjust_data yes --adjust_normalize yes --umap_reduce no\n",
    "    genoml discrete supervised munge --p 0.0000001 --prefix ./genetic_p1E7_omic_${i}/PPMI-genetic_p1E7_omic_${i} --addit PRS_clinical_omics-${i}.csv --geno AMP_Euro_sampleQC_variantQC_FINAL_OG_PPMI_Only-MAF05 --pheno OG_PPMI_Only_PHENO.csv --gwas GenoML_mod_META5_p005_maf001_90hits_Nov17.csv --impute mean --skip_prune no --r2_cutoff 0.1 --feature_selection 500 --target_features SNPs_rsIDs_target_features.txt --confounders OG_PPMI_Only_WGS_PCs_Confounders.csv --adjust_data yes --adjust_normalize yes --umap_reduce no\n",
    "    genoml discrete supervised munge --p 0.000001 --prefix ./genetic_p1E6_omic_${i}/PPMI-genetic_p1E6_omic_${i} --addit PRS_clinical_omics-${i}.csv --geno AMP_Euro_sampleQC_variantQC_FINAL_OG_PPMI_Only-MAF05 --pheno OG_PPMI_Only_PHENO.csv --gwas GenoML_mod_META5_p005_maf001_90hits_Nov17.csv --impute mean --skip_prune no --r2_cutoff 0.1 --feature_selection 500 --target_features SNPs_rsIDs_target_features.txt --confounders OG_PPMI_Only_WGS_PCs_Confounders.csv --adjust_data yes --adjust_normalize yes --umap_reduce no\n",
    "    genoml discrete supervised munge --p 0.00001 --prefix ./genetic_p1E5_omic_${i}/PPMI-genetic_p1E5_omic_${i} --addit PRS_clinical_omics-${i}.csv --geno AMP_Euro_sampleQC_variantQC_FINAL_OG_PPMI_Only-MAF05 --pheno OG_PPMI_Only_PHENO.csv --gwas GenoML_mod_META5_p005_maf001_90hits_Nov17.csv --impute mean --skip_prune no --r2_cutoff 0.1 --feature_selection 500 --target_features SNPs_rsIDs_target_features.txt --confounders OG_PPMI_Only_WGS_PCs_Confounders.csv --adjust_data yes --adjust_normalize yes --umap_reduce no\n",
    "    genoml discrete supervised munge --p 0.0001 --prefix ./genetic_p1E4_omic_${i}/PPMI-genetic_p1E4_omic_${i} --addit PRS_clinical_omics-${i}.csv --geno AMP_Euro_sampleQC_variantQC_FINAL_OG_PPMI_Only-MAF05 --pheno OG_PPMI_Only_PHENO.csv --gwas GenoML_mod_META5_p005_maf001_90hits_Nov17.csv --impute mean --skip_prune no --r2_cutoff 0.1 --feature_selection 500 --target_features SNPs_rsIDs_target_features.txt --confounders OG_PPMI_Only_WGS_PCs_Confounders.csv --adjust_data yes --adjust_normalize yes --umap_reduce no\n",
    "    genoml discrete supervised munge --p 0.001 --prefix ./genetic_p1E3_omic_${i}/PPMI-genetic_p1E3_omic_${i} --addit PRS_clinical_omics-${i}.csv --geno AMP_Euro_sampleQC_variantQC_FINAL_OG_PPMI_Only-MAF05 --pheno OG_PPMI_Only_PHENO.csv --gwas GenoML_mod_META5_p005_maf001_90hits_Nov17.csv --impute mean --skip_prune no --r2_cutoff 0.1 --feature_selection 500 --target_features SNPs_rsIDs_target_features.txt --confounders OG_PPMI_Only_WGS_PCs_Confounders.csv --adjust_data yes --adjust_normalize yes --umap_reduce no\n",
    "    genoml discrete supervised munge --p 0.01 --prefix ./genetic_p1E2_omic_${i}/PPMI-genetic_p1E2_omic_${i} --addit PRS_clinical_omics-${i}.csv --geno AMP_Euro_sampleQC_variantQC_FINAL_OG_PPMI_Only-MAF05 --pheno OG_PPMI_Only_PHENO.csv --gwas GenoML_mod_META5_p005_maf001_90hits_Nov17.csv --impute mean --skip_prune no --r2_cutoff 0.1 --feature_selection 500 --target_features SNPs_rsIDs_target_features.txt --confounders OG_PPMI_Only_WGS_PCs_Confounders.csv --adjust_data yes --adjust_normalize yes --umap_reduce no\n",
    "done"
   ]
  },
  {
   "cell_type": "code",
   "execution_count": null,
   "metadata": {},
   "outputs": [],
   "source": [
    "# Train it.\n",
    "%%bash\n",
    "\n",
    "for i in p1E8 p1E7 p1E6 p1E5 p1E4 p1E3 p1E2\n",
    "do\n",
    "    genoml discrete supervised train --prefix ./genetic_p1E8_omic_${i}/PPMI-genetic_p1E8_omic_${i}\n",
    "    genoml discrete supervised train --prefix ./genetic_p1E7_omic_${i}/PPMI-genetic_p1E7_omic_${i}\n",
    "    genoml discrete supervised train --prefix ./genetic_p1E6_omic_${i}/PPMI-genetic_p1E6_omic_${i}\n",
    "    genoml discrete supervised train --prefix ./genetic_p1E5_omic_${i}/PPMI-genetic_p1E5_omic_${i}\n",
    "    genoml discrete supervised train --prefix ./genetic_p1E4_omic_${i}/PPMI-genetic_p1E4_omic_${i}\n",
    "    genoml discrete supervised train --prefix ./genetic_p1E3_omic_${i}/PPMI-genetic_p1E3_omic_${i}\n",
    "    genoml discrete supervised train --prefix ./genetic_p1E2_omic_${i}/PPMI-genetic_p1E2_omic_${i}\n",
    "done"
   ]
  },
  {
   "cell_type": "code",
   "execution_count": null,
   "metadata": {},
   "outputs": [],
   "source": [
    "# Tune it.\n",
    "%%bash\n",
    "\n",
    "for i in p1E8 p1E7 p1E6 p1E5 p1E4 p1E3 p1E2\n",
    "do\n",
    "    genoml discrete supervised tune --prefix ./genetic_p1E8_omic_${i}/PPMI-genetic_p1E8_omic_${i} --max_tune 25\n",
    "    genoml discrete supervised tune --prefix ./genetic_p1E7_omic_${i}/PPMI-genetic_p1E7_omic_${i} --max_tune 25\n",
    "    genoml discrete supervised tune --prefix ./genetic_p1E6_omic_${i}/PPMI-genetic_p1E6_omic_${i} --max_tune 25\n",
    "    genoml discrete supervised tune --prefix ./genetic_p1E5_omic_${i}/PPMI-genetic_p1E5_omic_${i} --max_tune 25\n",
    "    genoml discrete supervised tune --prefix ./genetic_p1E4_omic_${i}/PPMI-genetic_p1E4_omic_${i} --max_tune 25\n",
    "    genoml discrete supervised tune --prefix ./genetic_p1E3_omic_${i}/PPMI-genetic_p1E3_omic_${i} --max_tune 25\n",
    "    genoml discrete supervised tune --prefix ./genetic_p1E2_omic_${i}/PPMI-genetic_p1E2_omic_${i} --max_tune 25\n",
    "done"
   ]
  },
  {
   "cell_type": "markdown",
   "metadata": {},
   "source": [
    "# 8. Harmonize the PDBP (aka TEST) dataset"
   ]
  },
  {
   "cell_type": "code",
   "execution_count": null,
   "metadata": {},
   "outputs": [],
   "source": [
    "# First, make the MAF-05 PDBP plink files to harmonize\n",
    "%%bash\n",
    "\n",
    "plink --bfile AMP_Euro_sampleQC_variantQC_FINAL_PDBP_Only --maf 0.05 --make-bed --out ./../../AMP_Euro_sampleQC_variantQC_FINAL_PDBP_Only-MAF05"
   ]
  },
  {
   "cell_type": "code",
   "execution_count": null,
   "metadata": {},
   "outputs": [],
   "source": [
    "%%bash\n",
    "\n",
    "for i in p1E8 p1E7 p1E6 p1E5 p1E4 p1E3 p1E2\n",
    "do\n",
    "    genoml harmonize --test_prefix ./genetic_p1E8_omic_${i}/validate-PDBP-genetic_p1E8_omic_${i} --test_geno_prefix AMP_Euro_sampleQC_variantQC_FINAL_PDBP_Only-MAF05 --ref_model_prefix ./genetic_p1E8_omic_${i}/PPMI-genetic_p1E8_omic_${i} --training_snps_alleles ./genetic_p1E8_omic_${i}/PPMI-genetic_p1E8_omic_${i}.variants_and_alleles.tab\n",
    "    genoml harmonize --test_prefix ./genetic_p1E7_omic_${i}/validate-PDBP-genetic_p1E7_omic_${i} --test_geno_prefix AMP_Euro_sampleQC_variantQC_FINAL_PDBP_Only-MAF05 --ref_model_prefix ./genetic_p1E7_omic_${i}/PPMI-genetic_p1E7_omic_${i} --training_snps_alleles ./genetic_p1E7_omic_${i}/PPMI-genetic_p1E7_omic_${i}.variants_and_alleles.tab\n",
    "    genoml harmonize --test_prefix ./genetic_p1E6_omic_${i}/validate-PDBP-genetic_p1E6_omic_${i} --test_geno_prefix AMP_Euro_sampleQC_variantQC_FINAL_PDBP_Only-MAF05 --ref_model_prefix ./genetic_p1E6_omic_${i}/PPMI-genetic_p1E6_omic_${i} --training_snps_alleles ./genetic_p1E6_omic_${i}/PPMI-genetic_p1E6_omic_${i}.variants_and_alleles.tab\n",
    "    genoml harmonize --test_prefix ./genetic_p1E5_omic_${i}/validate-PDBP-genetic_p1E5_omic_${i} --test_geno_prefix AMP_Euro_sampleQC_variantQC_FINAL_PDBP_Only-MAF05 --ref_model_prefix ./genetic_p1E5_omic_${i}/PPMI-genetic_p1E5_omic_${i} --training_snps_alleles ./genetic_p1E5_omic_${i}/PPMI-genetic_p1E5_omic_${i}.variants_and_alleles.tab\n",
    "    genoml harmonize --test_prefix ./genetic_p1E4_omic_${i}/validate-PDBP-genetic_p1E4_omic_${i} --test_geno_prefix AMP_Euro_sampleQC_variantQC_FINAL_PDBP_Only-MAF05 --ref_model_prefix ./genetic_p1E4_omic_${i}/PPMI-genetic_p1E4_omic_${i} --training_snps_alleles ./genetic_p1E4_omic_${i}/PPMI-genetic_p1E4_omic_${i}.variants_and_alleles.tab\n",
    "    genoml harmonize --test_prefix ./genetic_p1E3_omic_${i}/validate-PDBP-genetic_p1E3_omic_${i} --test_geno_prefix AMP_Euro_sampleQC_variantQC_FINAL_PDBP_Only-MAF05 --ref_model_prefix ./genetic_p1E3_omic_${i}/PPMI-genetic_p1E3_omic_${i} --training_snps_alleles ./genetic_p1E3_omic_${i}/PPMI-genetic_p1E3_omic_${i}.variants_and_alleles.tab\n",
    "    genoml harmonize --test_prefix ./genetic_p1E2_omic_${i}/validate-PDBP-genetic_p1E2_omic_${i} --test_geno_prefix AMP_Euro_sampleQC_variantQC_FINAL_PDBP_Only-MAF05 --ref_model_prefix ./genetic_p1E2_omic_${i}/PPMI-genetic_p1E2_omic_${i} --training_snps_alleles ./genetic_p1E2_omic_${i}/PPMI-genetic_p1E2_omic_${i}.variants_and_alleles.tab\n",
    "done"
   ]
  },
  {
   "cell_type": "markdown",
   "metadata": {},
   "source": [
    "# 9. Munge the PDBP (aka TEST) dataset on the PPMI (aka REFERENCE) dataset columns"
   ]
  },
  {
   "cell_type": "code",
   "execution_count": null,
   "metadata": {},
   "outputs": [],
   "source": [
    "# Merge PRS with transcriptomics for PDBP\n",
    "\n",
    "PDBP_PRS_df = pd.read_csv(\"output_prs_prs.csv\")\n",
    "PDBP_PRS_df.rename(columns={\"IID\":\"ID\"}, inplace=True)\n",
    "PDBP_old_addit_df = pd.read_csv(\"PDBP_Only_Combined_Clinical_Omics.csv\")\n",
    "PDBP_PRS_with_addits_df = PDBP_PRS_df.merge(PDBP_old_addit_df, on=\"ID\", how='inner')\n",
    "PDBP_PRS_df.to_csv(\"PDBP_PRS.csv\", index=False)\n",
    "PDBP_PRS_with_addits_df.to_csv(\"PDBP_PRS_and_addits.csv\", index=False)"
   ]
  },
  {
   "cell_type": "code",
   "execution_count": null,
   "metadata": {},
   "outputs": [],
   "source": [
    "# No place a custom built \"addit\" file in each directory. This includes the PRS plus the omics at the specified P threshold plus clinicodemographic data. Genetic data will be handled from the same file for all at munging.\n",
    "# addit threshold .csvs being read in are from a larger PPMI and PDBP file \n",
    "\n",
    "PRS_clinical_df = pd.read_csv(\"PDBP_PRS_and_addits.csv\")\n",
    "PRS_clinical_reduced_df = PRS_clinical_df[['ID','PRS90','AGE','MALE','EDUCATION','FAMILY_HISTORY','UPSIT','InfAJ']]\n",
    "PRS_clinical_reduced_df.head()\n",
    "\n",
    "addit_df = pd.read_csv(\"addit_p1E8.csv\")\n",
    "merged_df = PRS_clinical_reduced_df.merge(addit_df, on='ID', how='inner')\n",
    "merged_df.to_csv(\"PDBP_PRS_clinical_omics-p1E8.csv\", index=False)\n",
    "\n",
    "addit_df = pd.read_csv(\"addit_p1E7.csv\")\n",
    "merged_df = PRS_clinical_reduced_df.merge(addit_df, on='ID', how='inner')\n",
    "merged_df.to_csv(\"PDBP_PRS_clinical_omics-p1E7.csv\", index=False)\n",
    "\n",
    "addit_df = pd.read_csv(\"addit_p1E6.csv\")\n",
    "merged_df = PRS_clinical_reduced_df.merge(addit_df, on='ID', how='inner')\n",
    "merged_df.to_csv(\"PDBP_PRS_clinical_omics-p1E6.csv\", index=False)\n",
    "\n",
    "addit_df = pd.read_csv(\"addit_p1E5.csv\")\n",
    "merged_df = PRS_clinical_reduced_df.merge(addit_df, on='ID', how='inner')\n",
    "merged_df.to_csv(\"PDBP_PRS_clinical_omics-p1E5.csv\", index=False)\n",
    "\n",
    "addit_df = pd.read_csv(\"addit_p1E4.csv\")\n",
    "merged_df = PRS_clinical_reduced_df.merge(addit_df, on='ID', how='inner')\n",
    "merged_df.to_csv(\"PDBP_PRS_clinical_omics-p1E4.csv\", index=False)\n",
    "\n",
    "addit_df = pd.read_csv(\"addit_p1E3.csv\")\n",
    "merged_df = PRS_clinical_reduced_df.merge(addit_df, on='ID', how='inner')\n",
    "merged_df.to_csv(\"PDBP_PRS_clinical_omics-p1E3.csv\", index=False)\n",
    "\n",
    "addit_df = pd.read_csv(\"addit_p1E2.csv\")\n",
    "merged_df = PRS_clinical_reduced_df.merge(addit_df, on='ID', how='inner')\n",
    "merged_df.to_csv(\"PDBP_PRS_clinical_omics-p1E2.csv\", index=False)"
   ]
  },
  {
   "cell_type": "code",
   "execution_count": null,
   "metadata": {},
   "outputs": [],
   "source": [
    "%%bash\n",
    "\n",
    "for i in p1E8 p1E7 p1E6 p1E5 p1E4 p1E3 p1E2\n",
    "do\n",
    "    genoml discrete supervised munge --p 0.00000001 --prefix ./genetic_p1E8_omic_${i}/validate-PDBP-genetic_p1E8_omic_${i} --addit PDBP_PRS_clinical_omics-${i}.csv --geno AMP_Euro_sampleQC_variantQC_FINAL_PDBP_Only-MAF05 --pheno PDBP_Only_PHENO.csv --gwas GenoML_mod_META5_p005_maf001_90hits_Nov17.csv --impute mean --skip_prune no --r2_cutoff 0.1 --target_features SNPs_rsIDs_target_features.txt --confounders PDBP_Only_WGS_PCs_Confounders.csv --adjust_data yes --adjust_normalize yes --umap_reduce no --ref_cols_harmonize ./genetic_p1E8_omic_${i}/validate-PDBP-genetic_p1E8_omic_${i}.refColsHarmonize_toKeep.txt\n",
    "    genoml discrete supervised munge --p 0.0000001 --prefix ./genetic_p1E7_omic_${i}/validate-PDBP-genetic_p1E7_omic_${i} --addit PDBP_PRS_clinical_omics-${i}.csv --geno AMP_Euro_sampleQC_variantQC_FINAL_PDBP_Only-MAF05 --pheno PDBP_Only_PHENO.csv --gwas GenoML_mod_META5_p005_maf001_90hits_Nov17.csv --impute mean --skip_prune no --r2_cutoff 0.1 --target_features SNPs_rsIDs_target_features.txt --confounders PDBP_Only_WGS_PCs_Confounders.csv --adjust_data yes --adjust_normalize yes --umap_reduce no --ref_cols_harmonize ./genetic_p1E7_omic_${i}/validate-PDBP-genetic_p1E7_omic_${i}.refColsHarmonize_toKeep.txt\n",
    "    genoml discrete supervised munge --p 0.000001 --prefix ./genetic_p1E6_omic_${i}/validate-PDBP-genetic_p1E6_omic_${i} --addit PDBP_PRS_clinical_omics-${i}.csv --geno AMP_Euro_sampleQC_variantQC_FINAL_PDBP_Only-MAF05 --pheno PDBP_Only_PHENO.csv --gwas GenoML_mod_META5_p005_maf001_90hits_Nov17.csv --impute mean --skip_prune no --r2_cutoff 0.1 --target_features SNPs_rsIDs_target_features.txt --confounders PDBP_Only_WGS_PCs_Confounders.csv --adjust_data yes --adjust_normalize yes --umap_reduce no --ref_cols_harmonize ./genetic_p1E6_omic_${i}/validate-PDBP-genetic_p1E6_omic_${i}.refColsHarmonize_toKeep.txt\n",
    "    genoml discrete supervised munge --p 0.00001 --prefix ./genetic_p1E5_omic_${i}/validate-PDBP-genetic_p1E5_omic_${i} --addit PDBP_PRS_clinical_omics-${i}.csv --geno AMP_Euro_sampleQC_variantQC_FINAL_PDBP_Only-MAF05 --pheno PDBP_Only_PHENO.csv --gwas GenoML_mod_META5_p005_maf001_90hits_Nov17.csv --impute mean --skip_prune no --r2_cutoff 0.1 --target_features SNPs_rsIDs_target_features.txt --confounders PDBP_Only_WGS_PCs_Confounders.csv --adjust_data yes --adjust_normalize yes --umap_reduce no --ref_cols_harmonize ./genetic_p1E5_omic_${i}/validate-PDBP-genetic_p1E5_omic_${i}.refColsHarmonize_toKeep.txt\n",
    "    genoml discrete supervised munge --p 0.0001 --prefix ./genetic_p1E4_omic_${i}/validate-PDBP-genetic_p1E4_omic_${i} --addit PDBP_PRS_clinical_omics-${i}.csv --geno AMP_Euro_sampleQC_variantQC_FINAL_PDBP_Only-MAF05 --pheno PDBP_Only_PHENO.csv --gwas GenoML_mod_META5_p005_maf001_90hits_Nov17.csv --impute mean --skip_prune no --r2_cutoff 0.1 --target_features SNPs_rsIDs_target_features.txt --confounders PDBP_Only_WGS_PCs_Confounders.csv --adjust_data yes --adjust_normalize yes --umap_reduce no --ref_cols_harmonize ./genetic_p1E4_omic_${i}/validate-PDBP-genetic_p1E4_omic_${i}.refColsHarmonize_toKeep.txt\n",
    "    genoml discrete supervised munge --p 0.001 --prefix ./genetic_p1E3_omic_${i}/validate-PDBP-genetic_p1E3_omic_${i} --addit PDBP_PRS_clinical_omics-${i}.csv --geno AMP_Euro_sampleQC_variantQC_FINAL_PDBP_Only-MAF05 --pheno PDBP_Only_PHENO.csv --gwas GenoML_mod_META5_p005_maf001_90hits_Nov17.csv --impute mean --skip_prune no --r2_cutoff 0.1 --target_features SNPs_rsIDs_target_features.txt --confounders PDBP_Only_WGS_PCs_Confounders.csv --adjust_data yes --adjust_normalize yes --umap_reduce no --ref_cols_harmonize ./genetic_p1E3_omic_${i}/validate-PDBP-genetic_p1E3_omic_${i}.refColsHarmonize_toKeep.txt\n",
    "    genoml discrete supervised munge --p 0.01 --prefix ./genetic_p1E2_omic_${i}/validate-PDBP-genetic_p1E2_omic_${i} --addit PDBP_PRS_clinical_omics-${i}.csv --geno AMP_Euro_sampleQC_variantQC_FINAL_PDBP_Only-MAF05 --pheno PDBP_Only_PHENO.csv --gwas GenoML_mod_META5_p005_maf001_90hits_Nov17.csv --impute mean --skip_prune no --r2_cutoff 0.1 --target_features SNPs_rsIDs_target_features.txt --confounders PDBP_Only_WGS_PCs_Confounders.csv --adjust_data yes --adjust_normalize yes --umap_reduce no --ref_cols_harmonize ./genetic_p1E2_omic_${i}/validate-PDBP-genetic_p1E2_omic_${i}.refColsHarmonize_toKeep.txt\n",
    "done\n"
   ]
  },
  {
   "cell_type": "markdown",
   "metadata": {},
   "source": [
    "# 10. Re-train the reference dataset on the harmonized columns"
   ]
  },
  {
   "cell_type": "code",
   "execution_count": null,
   "metadata": {},
   "outputs": [],
   "source": [
    "%%bash\n",
    "for i in p1E8 p1E7 p1E6 p1E5 p1E4 p1E3 p1E2\n",
    "do\n",
    "    genoml discrete supervised train --prefix ./genetic_p1E8_omic_${i}/PPMI-genetic_p1E8_omic_${i} --matching_columns ./genetic_p1E8_omic_${i}/validate-PDBP-genetic_p1E8_omic_${i}.finalHarmonizedCols_toKeep.txt\n",
    "    genoml discrete supervised train --prefix ./genetic_p1E7_omic_${i}/PPMI-genetic_p1E7_omic_${i} --matching_columns ./genetic_p1E7_omic_${i}/validate-PDBP-genetic_p1E7_omic_${i}.finalHarmonizedCols_toKeep.txt \n",
    "    genoml discrete supervised train --prefix ./genetic_p1E6_omic_${i}/PPMI-genetic_p1E6_omic_${i} --matching_columns ./genetic_p1E6_omic_${i}/validate-PDBP-genetic_p1E6_omic_${i}.finalHarmonizedCols_toKeep.txt\n",
    "    genoml discrete supervised train --prefix ./genetic_p1E5_omic_${i}/PPMI-genetic_p1E5_omic_${i} --matching_columns ./genetic_p1E5_omic_${i}/validate-PDBP-genetic_p1E5_omic_${i}.finalHarmonizedCols_toKeep.txt\n",
    "    genoml discrete supervised train --prefix ./genetic_p1E4_omic_${i}/PPMI-genetic_p1E4_omic_${i} --matching_columns ./genetic_p1E4_omic_${i}/validate-PDBP-genetic_p1E4_omic_${i}.finalHarmonizedCols_toKeep.txt\n",
    "    genoml discrete supervised train --prefix ./genetic_p1E3_omic_${i}/PPMI-genetic_p1E3_omic_${i} --matching_columns ./genetic_p1E3_omic_${i}/validate-PDBP-genetic_p1E3_omic_${i}.finalHarmonizedCols_toKeep.txt\n",
    "    genoml discrete supervised train --prefix ./genetic_p1E2_omic_${i}/PPMI-genetic_p1E2_omic_${i} --matching_columns ./genetic_p1E2_omic_${i}/validate-PDBP-genetic_p1E2_omic_${i}.finalHarmonizedCols_toKeep.txt\n",
    "done"
   ]
  },
  {
   "cell_type": "markdown",
   "metadata": {},
   "source": [
    "# 12. Test the Re-trained Models"
   ]
  },
  {
   "cell_type": "code",
   "execution_count": null,
   "metadata": {},
   "outputs": [],
   "source": [
    "%%bash\n",
    "for i in p1E8 p1E7 p1E6 p1E5 p1E4 p1E3 p1E2\n",
    "do\n",
    "    genoml discrete supervised test --prefix ./genetic_p1E8_omic_${i}/validate-PPMImodel-onPDBPdata-trainedModel-p1E8_omic_${i} --test_prefix ./genetic_p1E8_omic_${i}/validate-PDBP-genetic_p1E8_omic_${i} --ref_model_prefix ./genetic_p1E8_omic_${i}/PPMI-genetic_p1E8_omic_${i}.trainedModel\n",
    "    genoml discrete supervised test --prefix ./genetic_p1E7_omic_${i}/validate-PPMImodel-onPDBPdata-trainedModel-p1E7_omic_${i} --test_prefix ./genetic_p1E7_omic_${i}/validate-PDBP-genetic_p1E7_omic_${i} --ref_model_prefix ./genetic_p1E7_omic_${i}/PPMI-genetic_p1E7_omic_${i}.trainedModel\n",
    "    genoml discrete supervised test --prefix ./genetic_p1E6_omic_${i}/validate-PPMImodel-onPDBPdata-trainedModel-p1E6_omic_${i} --test_prefix ./genetic_p1E6_omic_${i}/validate-PDBP-genetic_p1E6_omic_${i} --ref_model_prefix ./genetic_p1E6_omic_${i}/PPMI-genetic_p1E6_omic_${i}.trainedModel\n",
    "    genoml discrete supervised test --prefix ./genetic_p1E5_omic_${i}/validate-PPMImodel-onPDBPdata-trainedModel-p1E5_omic_${i} --test_prefix ./genetic_p1E5_omic_${i}/validate-PDBP-genetic_p1E5_omic_${i} --ref_model_prefix ./genetic_p1E5_omic_${i}/PPMI-genetic_p1E5_omic_${i}.trainedModel\n",
    "    genoml discrete supervised test --prefix ./genetic_p1E4_omic_${i}/validate-PPMImodel-onPDBPdata-trainedModel-p1E4_omic_${i} --test_prefix ./genetic_p1E4_omic_${i}/validate-PDBP-genetic_p1E4_omic_${i} --ref_model_prefix ./genetic_p1E4_omic_${i}/PPMI-genetic_p1E4_omic_${i}.trainedModel\n",
    "    genoml discrete supervised test --prefix ./genetic_p1E3_omic_${i}/validate-PPMImodel-onPDBPdata-trainedModel-p1E3_omic_${i} --test_prefix ./genetic_p1E3_omic_${i}/validate-PDBP-genetic_p1E3_omic_${i} --ref_model_prefix ./genetic_p1E3_omic_${i}/PPMI-genetic_p1E3_omic_${i}.trainedModel\n",
    "    genoml discrete supervised test --prefix ./genetic_p1E2_omic_${i}/validate-PPMImodel-onPDBPdata-trainedModel-p1E2_omic_${i} --test_prefix ./genetic_p1E2_omic_${i}/validate-PDBP-genetic_p1E2_omic_${i}  --ref_model_prefix ./genetic_p1E2_omic_${i}/PPMI-genetic_p1E2_omic_${i}.trainedModel\n",
    "done "
   ]
  },
  {
   "cell_type": "markdown",
   "metadata": {},
   "source": [
    "# 13. Tune the re-trained models "
   ]
  },
  {
   "cell_type": "code",
   "execution_count": null,
   "metadata": {},
   "outputs": [],
   "source": [
    "%%bash\n",
    "for i in p1E8 p1E7 p1E6 p1E5 p1E4 p1E3 p1E2\n",
    "do\n",
    "    genoml discrete supervised tune --prefix ./genetic_p1E8_omic_${i}/PPMI-genetic_p1E8_omic_${i} --matching_columns ./genetic_p1E8_omic_${i}/validate-PDBP-genetic_p1E8_omic_${i}.finalHarmonizedCols_toKeep.txt --max_tune 25\n",
    "    genoml discrete supervised tune --prefix ./genetic_p1E7_omic_${i}/PPMI-genetic_p1E7_omic_${i} --matching_columns ./genetic_p1E7_omic_${i}/validate-PDBP-genetic_p1E7_omic_${i}.finalHarmonizedCols_toKeep.txt --max_tune 25\n",
    "    genoml discrete supervised tune --prefix ./genetic_p1E6_omic_${i}/PPMI-genetic_p1E6_omic_${i} --matching_columns ./genetic_p1E6_omic_${i}/validate-PDBP-genetic_p1E6_omic_${i}.finalHarmonizedCols_toKeep.txt --max_tune 25\n",
    "    genoml discrete supervised tune --prefix ./genetic_p1E5_omic_${i}/PPMI-genetic_p1E5_omic_${i} --matching_columns ./genetic_p1E5_omic_${i}/validate-PDBP-genetic_p1E5_omic_${i}.finalHarmonizedCols_toKeep.txt --max_tune 25\n",
    "    genoml discrete supervised tune --prefix ./genetic_p1E4_omic_${i}/PPMI-genetic_p1E4_omic_${i} --matching_columns ./genetic_p1E4_omic_${i}/validate-PDBP-genetic_p1E4_omic_${i}.finalHarmonizedCols_toKeep.txt --max_tune 25\n",
    "    genoml discrete supervised tune --prefix ./genetic_p1E3_omic_${i}/PPMI-genetic_p1E3_omic_${i} --matching_columns ./genetic_p1E3_omic_${i}/validate-PDBP-genetic_p1E3_omic_${i}.finalHarmonizedCols_toKeep.txt --max_tune 25\n",
    "    genoml discrete supervised tune --prefix ./genetic_p1E2_omic_${i}/PPMI-genetic_p1E2_omic_${i} --matching_columns ./genetic_p1E2_omic_${i}/validate-PDBP-genetic_p1E2_omic_${i}.finalHarmonizedCols_toKeep.txt --max_tune 25\n",
    "done"
   ]
  },
  {
   "cell_type": "markdown",
   "metadata": {},
   "source": [
    "# 14. Test the tuned models\n",
    "Only if there's a tuned model! If the tuned model performs worse than the trained model, a tuned model is not generated (and therefore, cannot be tested)\n",
    "\n",
    "33 models have made gains with tuning"
   ]
  },
  {
   "cell_type": "code",
   "execution_count": null,
   "metadata": {},
   "outputs": [],
   "source": [
    "%%bash\n",
    "for i in p1E8 p1E7 p1E6 p1E5 p1E4 p1E3 p1E2\n",
    "do\n",
    "    genoml discrete supervised test --prefix ./genetic_p1E8_omic_${i}/validate-PPMImodel-onPDBPdata-tunedModel-p1E8_omic_${i} --test_prefix ./genetic_p1E8_omic_${i}/validate-PDBP-genetic_p1E8_omic_${i} --ref_model_prefix ./genetic_p1E8_omic_${i}/PPMI-genetic_p1E8_omic_${i}.tunedModel\n",
    "    genoml discrete supervised test --prefix ./genetic_p1E7_omic_${i}/validate-PPMImodel-onPDBPdata-tunedModel-p1E7_omic_${i} --test_prefix ./genetic_p1E7_omic_${i}/validate-PDBP-genetic_p1E7_omic_${i} --ref_model_prefix ./genetic_p1E7_omic_${i}/PPMI-genetic_p1E7_omic_${i}.tunedModel\n",
    "    genoml discrete supervised test --prefix ./genetic_p1E6_omic_${i}/validate-PPMImodel-onPDBPdata-tunedModel-p1E6_omic_${i} --test_prefix ./genetic_p1E6_omic_${i}/validate-PDBP-genetic_p1E6_omic_${i} --ref_model_prefix ./genetic_p1E6_omic_${i}/PPMI-genetic_p1E6_omic_${i}.tunedModel\n",
    "    genoml discrete supervised test --prefix ./genetic_p1E5_omic_${i}/validate-PPMImodel-onPDBPdata-tunedModel-p1E5_omic_${i} --test_prefix ./genetic_p1E5_omic_${i}/validate-PDBP-genetic_p1E5_omic_${i} --ref_model_prefix ./genetic_p1E5_omic_${i}/PPMI-genetic_p1E5_omic_${i}.tunedModel\n",
    "    genoml discrete supervised test --prefix ./genetic_p1E4_omic_${i}/validate-PPMImodel-onPDBPdata-tunedModel-p1E4_omic_${i} --test_prefix ./genetic_p1E4_omic_${i}/validate-PDBP-genetic_p1E4_omic_${i} --ref_model_prefix ./genetic_p1E4_omic_${i}/PPMI-genetic_p1E4_omic_${i}.tunedModel\n",
    "    genoml discrete supervised test --prefix ./genetic_p1E3_omic_${i}/validate-PPMImodel-onPDBPdata-tunedModel-p1E3_omic_${i} --test_prefix ./genetic_p1E3_omic_${i}/validate-PDBP-genetic_p1E3_omic_${i} --ref_model_prefix ./genetic_p1E3_omic_${i}/PPMI-genetic_p1E3_omic_${i}.tunedModel\n",
    "    genoml discrete supervised test --prefix ./genetic_p1E2_omic_${i}/validate-PPMImodel-onPDBPdata-tunedModel-p1E2_omic_${i} --test_prefix ./genetic_p1E2_omic_${i}/validate-PDBP-genetic_p1E2_omic_${i} --ref_model_prefix ./genetic_p1E2_omic_${i}/PPMI-genetic_p1E2_omic_${i}.tunedModel\n",
    "done "
   ]
  },
  {
   "cell_type": "code",
   "execution_count": null,
   "metadata": {},
   "outputs": [],
   "source": []
  }
 ],
 "metadata": {
  "kernelspec": {
   "display_name": "Python 3",
   "language": "python",
   "name": "python3"
  },
  "language_info": {
   "codemirror_mode": {
    "name": "ipython",
    "version": 3
   },
   "file_extension": ".py",
   "mimetype": "text/x-python",
   "name": "python",
   "nbconvert_exporter": "python",
   "pygments_lexer": "ipython3",
   "version": "3.8.5"
  }
 },
 "nbformat": 4,
 "nbformat_minor": 4
}
